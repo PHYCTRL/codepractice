{
 "cells": [
  {
   "cell_type": "code",
   "execution_count": null,
   "id": "da9b3828-e326-4ae9-8876-3b14026ae0f2",
   "metadata": {},
   "outputs": [],
   "source": [
    "import pandas as pd\n",
    "\n",
    "ttn_df"
   ]
  },
  {
   "cell_type": "code",
   "execution_count": null,
   "id": "ca753a9b-d416-4744-b545-39668a5e5731",
   "metadata": {},
   "outputs": [],
   "source": []
  }
 ],
 "metadata": {
  "kernelspec": {
   "display_name": "Python 3 (ipykernel)",
   "language": "python",
   "name": "python3"
  },
  "language_info": {
   "codemirror_mode": {
    "name": "ipython",
    "version": 3
   },
   "file_extension": ".py",
   "mimetype": "text/x-python",
   "name": "python",
   "nbconvert_exporter": "python",
   "pygments_lexer": "ipython3",
   "version": "3.10.12"
  }
 },
 "nbformat": 4,
 "nbformat_minor": 5
}
